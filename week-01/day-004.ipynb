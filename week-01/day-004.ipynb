{
 "cells": [
  {
   "attachments": {},
   "cell_type": "markdown",
   "metadata": {},
   "source": [
    "### 2244. Minimum Rounds to Complete All Tasks\n",
    "```text\n",
    "You are given a 0-indexed integer array tasks, where tasks[i] represents the difficulty level of a task. \n",
    "In each round, you can complete either 2 or 3 tasks of the same difficulty level.\n",
    "\n",
    "Return the minimum rounds required to complete all the tasks, or -1 if it is not possible to complete \n",
    "all  the tasks.\n",
    "\n",
    "Example 1:\n",
    "Input: tasks = [2,2,3,3,2,4,4,4,4,4]\n",
    "Output: 4\n",
    "\n",
    "Example 2:\n",
    "Input: tasks = [2,3,3]\n",
    "Output: -1\n",
    "```"
   ]
  },
  {
   "cell_type": "code",
   "execution_count": 2,
   "metadata": {},
   "outputs": [
    {
     "name": "stdout",
     "output_type": "stream",
     "text": [
      "4\n",
      "-1\n"
     ]
    }
   ],
   "source": [
    "public int minimumRounds(int[] tasks) {\n",
    "    int count = 0;\n",
    "    Map<Integer, Integer> map = new HashMap<>();\n",
    "    for (int x : tasks) {\n",
    "        map.put(x, map.getOrDefault(x, 0) + 1);\n",
    "    }\n",
    "\n",
    "    for (int x : map.keySet()) {\n",
    "        if (map.get(x) == 1) {\n",
    "            return -1;\n",
    "        } else {\n",
    "            count += map.get(x) / 3;\n",
    "            if (map.get(x) % 3 != 0) {\n",
    "                count++;\n",
    "            }\n",
    "        }\n",
    "    }\n",
    "    return count;\n",
    "}\n",
    "\n",
    "System.out.println(minimumRounds(new int[]{2,2,3,3,2,4,4,4,4,4}));\n",
    "System.out.println(minimumRounds(new int[]{2,3,3}));"
   ]
  },
  {
   "cell_type": "code",
   "execution_count": null,
   "metadata": {},
   "outputs": [],
   "source": []
  }
 ],
 "metadata": {
  "kernelspec": {
   "display_name": "Java",
   "language": "java",
   "name": "java"
  },
  "language_info": {
   "codemirror_mode": "java",
   "file_extension": ".jshell",
   "mimetype": "text/x-java-source",
   "name": "java",
   "pygments_lexer": "java",
   "version": "17.0.4.1+1"
  },
  "orig_nbformat": 4,
  "vscode": {
   "interpreter": {
    "hash": "b0fa6594d8f4cbf19f97940f81e996739fb7646882a419484c72d19e05852a7e"
   }
  }
 },
 "nbformat": 4,
 "nbformat_minor": 2
}
