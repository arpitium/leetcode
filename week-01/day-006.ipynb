{
 "cells": [
  {
   "attachments": {},
   "cell_type": "markdown",
   "metadata": {},
   "source": [
    "### 1833. Maximum Ice Cream Bars\n",
    "```text\n",
    "It is a sweltering summer day, and a boy wants to buy some ice cream bars.\n",
    "\n",
    "At the store, there are n ice cream bars. You are given an array costs of length n, where costs[i] is the \n",
    "price of the ith ice cream bar in coins. The boy initially has coins coins to spend, and he wants to buy \n",
    "as many ice cream bars as possible. \n",
    "\n",
    "Return the maximum number of ice cream bars the boy can buy with coins coins.\n",
    "Note: The boy can buy the ice cream bars in any order.\n",
    "\n",
    "\n",
    "Example 1:\n",
    "Input: costs = [1,3,2,4,1], coins = 7\n",
    "Output: 4\n",
    "\n",
    "Example 2:\n",
    "Input: costs = [10,6,8,7,7,8], coins = 5\n",
    "Output: 0\n",
    "\n",
    "Example 3:\n",
    "Input: costs = [1,6,3,1,2,5], coins = 20\n",
    "Output: 6\n",
    "```"
   ]
  },
  {
   "cell_type": "code",
   "execution_count": 2,
   "metadata": {},
   "outputs": [
    {
     "name": "stdout",
     "output_type": "stream",
     "text": [
      "4\n",
      "0\n",
      "6\n"
     ]
    }
   ],
   "source": [
    "public int maxIceCream(int[] costs, int coins) {\n",
    "    Arrays.sort(costs);\n",
    "\n",
    "    int result = 0;\n",
    "    for(int cost: costs) {\n",
    "        if(coins < cost) {\n",
    "            break;    \n",
    "        }\n",
    "        coins -= cost;\n",
    "        result++;\n",
    "    }\n",
    "\n",
    "    return result;\n",
    "}\n",
    "\n",
    "System.out.println(maxIceCream(new int[]{1,3,2,4,1}, 7));\n",
    "System.out.println(maxIceCream(new int[]{10,6,8,7,7,8}, 5));\n",
    "System.out.println(maxIceCream(new int[]{1,6,3,1,2,5}, 20));"
   ]
  }
 ],
 "metadata": {
  "kernelspec": {
   "display_name": "Java",
   "language": "java",
   "name": "java"
  },
  "language_info": {
   "codemirror_mode": "java",
   "file_extension": ".jshell",
   "mimetype": "text/x-java-source",
   "name": "java",
   "pygments_lexer": "java",
   "version": "17.0.4.1+1"
  },
  "orig_nbformat": 4
 },
 "nbformat": 4,
 "nbformat_minor": 2
}
