{
 "cells": [
  {
   "attachments": {},
   "cell_type": "markdown",
   "metadata": {},
   "source": [
    "### 452. Minimum Number of Arrows to Burst Balloons\n",
    "```text\n",
    "There are some spherical balloons taped onto a flat wall that represents the XY-plane. The balloons are \n",
    "represented as a 2D integer array points where points[i] = [xstart, xend] denotes a balloon whose \n",
    "horizontal diameter stretches between xstart and xend. You do not know the exact y-coordinates of the \n",
    "balloons.\n",
    "\n",
    "Arrows can be shot up directly vertically (in the positive y-direction) from different points along the \n",
    "x-axis. A balloon with xstart and xend is burst by an arrow shot at x if xstart <= x <= xend. There is no \n",
    "limit to the number of arrows that can be shot. A shot arrow keeps traveling up infinitely, bursting any \n",
    "balloons in its path.\n",
    "\n",
    "Given the array points, return the minimum number of arrows that must be shot to burst all balloons.\n",
    "\n",
    "\n",
    "Example 1:\n",
    "Input: points = [[10,16],[2,8],[1,6],[7,12]]\n",
    "Output: 2\n",
    "\n",
    "Example 2:\n",
    "Input: points = [[1,2],[3,4],[5,6],[7,8]]\n",
    "Output: 4\n",
    "\n",
    "Example 3:\n",
    "Input: points = [[1,2],[2,3],[3,4],[4,5]]\n",
    "Output: 2\n",
    "```"
   ]
  },
  {
   "cell_type": "code",
   "execution_count": 2,
   "metadata": {
    "vscode": {
     "languageId": "java"
    }
   },
   "outputs": [
    {
     "name": "stdout",
     "output_type": "stream",
     "text": [
      "2\n",
      "4\n",
      "2\n"
     ]
    }
   ],
   "source": [
    "public int findMinArrowShots(int[][] points) {\n",
    "    int result=1;\n",
    "    int last = points[0][1];\n",
    "\n",
    "    Arrays.sort(points, (a, b) -> a[1] - b[1]);\n",
    "\n",
    "    for(int i=0;i<points.length;i++){\n",
    "        if(points[i][0]>last){\n",
    "            result++;\n",
    "            last = points[i][1];\n",
    "        }\n",
    "        else {\n",
    "            last = Math.min(last, points[i][1]);\n",
    "        }\n",
    "    }\n",
    "\n",
    "    return result;\n",
    "}\n",
    "\n",
    "System.out.println(findMinArrowShots(new int[][]{{10, 16}, {2, 8}, {1, 6}, {7, 12}}));\n",
    "System.out.println(findMinArrowShots(new int[][]{{1, 2}, {3, 4}, {5, 6}, {7, 8}}));\n",
    "System.out.println(findMinArrowShots(new int[][]{{1, 2}, {2, 3}, {3, 4}, {4, 5}}));"
   ]
  },
  {
   "cell_type": "code",
   "execution_count": null,
   "metadata": {
    "vscode": {
     "languageId": "java"
    }
   },
   "outputs": [],
   "source": []
  }
 ],
 "metadata": {
  "kernelspec": {
   "display_name": "Java",
   "language": "java",
   "name": "java"
  },
  "language_info": {
   "codemirror_mode": "java",
   "file_extension": ".jshell",
   "mimetype": "text/x-java-source",
   "name": "Java",
   "pygments_lexer": "java",
   "version": "17.0.4.1+1"
  },
  "orig_nbformat": 4
 },
 "nbformat": 4,
 "nbformat_minor": 2
}
