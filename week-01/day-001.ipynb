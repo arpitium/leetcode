{
 "cells": [
  {
   "attachments": {},
   "cell_type": "markdown",
   "metadata": {},
   "source": [
    "### 290. Word pattern\n",
    "```text\n",
    "Given a pattern and a string s, find if s follows the same pattern.\n",
    "\n",
    "Here follow means a full match, such that there is a bijection between a letter in pattern and \n",
    "a non-empty word in s. \n",
    "\n",
    "Example 1:\n",
    "Input: pattern = \"abba\", s = \"dog cat cat dog\"\n",
    "Output: true\n",
    "\n",
    "Example 2:\n",
    "Input: pattern = \"abba\", s = \"dog cat cat fish\"\n",
    "Output: false\n",
    "\n",
    "Example 3:\n",
    "Input: pattern = \"aaaa\", s = \"dog cat cat dog\"\n",
    "Output: false\n",
    "```"
   ]
  },
  {
   "attachments": {},
   "cell_type": "markdown",
   "metadata": {},
   "source": [
    "### Intuition:\n",
    "```text\n",
    "For each letter in pattern, map it to corresponding word in the string\n",
    "For next appearance of the letter in pattern, check if its mapped to same word or not\n",
    "```\n",
    "![01](img/01.jpeg)"
   ]
  },
  {
   "cell_type": "code",
   "execution_count": 1,
   "metadata": {},
   "outputs": [
    {
     "name": "stdout",
     "output_type": "stream",
     "text": [
      "true\n",
      "false\n",
      "false\n"
     ]
    }
   ],
   "source": [
    "public boolean wordPattern(String pattern, String s) {\n",
    "    String[] words = s.split(\" \");\n",
    "    int size = words.length;\n",
    "    \n",
    "    if(size != pattern.length()) {\n",
    "            return false;\n",
    "    }\n",
    "    \n",
    "    Map<Character, String> map = new HashMap<>();\n",
    "    Set<String> uniqueWords = new HashSet<>();\n",
    "    for(int i=0; i<size; i++) {\n",
    "            char c = pattern.charAt(i);\n",
    "            String word = words[i];\n",
    "            if(!map.containsKey(c) && !uniqueWords.contains(word)) {\n",
    "                    map.put(c, word);\n",
    "                    uniqueWords.add(word);\n",
    "            }\n",
    "    \n",
    "            if(!words[i].equals(map.get(c))) {\n",
    "                    return false;\n",
    "            }\n",
    "    }\n",
    "    \n",
    "    return true;\n",
    "}\n",
    "\n",
    "System.out.println(wordPattern(\"abba\", \"dog cat cat dog\"));\n",
    "System.out.println(wordPattern(\"abba\", \"dog cat cat fish\"));\n",
    "System.out.println(wordPattern(\"aaaa\", \"dog cat cat dog\"));"
   ]
  },
  {
   "attachments": {},
   "cell_type": "markdown",
   "metadata": {},
   "source": [
    "## Similar problems"
   ]
  },
  {
   "attachments": {},
   "cell_type": "markdown",
   "metadata": {},
   "source": [
    "### 2. Isomorphic Strings\n",
    "[lc-205](https://leetcode.com/problems/isomorphic-strings/)\n",
    "```text\n",
    "Given two strings s and t, determine if they are isomorphic.\n",
    "\n",
    "Two strings s and t are isomorphic if the characters in s can be replaced to get t.\n",
    "\n",
    "All occurrences of a character must be replaced with another character while preserving the order of \n",
    "characters. No two characters may map to the same character, but a character may map to itself.\n",
    "\n",
    "Example 1:\n",
    "Input: s = \"egg\", t = \"add\"\n",
    "Output: true\n",
    "\n",
    "Example 2:\n",
    "Input: s = \"foo\", t = \"bar\"\n",
    "Output: false\n",
    "\n",
    "Example 3:\n",
    "Input: s = \"paper\", t = \"title\"\n",
    "Output: true\n",
    "```"
   ]
  },
  {
   "cell_type": "code",
   "execution_count": 2,
   "metadata": {},
   "outputs": [
    {
     "name": "stdout",
     "output_type": "stream",
     "text": [
      "true\n",
      "false\n",
      "true\n"
     ]
    }
   ],
   "source": [
    "public boolean isIsomorphic(String s, String t) {\n",
    "    if(s.length() != t.length()) {\n",
    "        return false;\n",
    "    }\n",
    "    Map<Character, Character> map = new HashMap<>();\n",
    "    Set<Character> set = new HashSet<>();\n",
    "\n",
    "    int size = s.length();\n",
    "\n",
    "    for(int i=0; i<size; i++) {\n",
    "        char left = s.charAt(i);\n",
    "        char right = t.charAt(i);\n",
    "        if(!map.containsKey(left) && !set.contains(right)) {\n",
    "            map.put(left, right);\n",
    "            set.add(right);\n",
    "        }\n",
    "\n",
    "        if(map.get(left) == null || right != map.get(left)) {\n",
    "            return false;\n",
    "        }\n",
    "    }\n",
    "    return true;\n",
    "}\n",
    "\n",
    "System.out.println(isIsomorphic(\"egg\", \"add\"));\n",
    "System.out.println(isIsomorphic(\"foo\", \"bar\"));\n",
    "System.out.println(isIsomorphic(\"paper\", \"title\"));"
   ]
  },
  {
   "cell_type": "code",
   "execution_count": null,
   "metadata": {},
   "outputs": [],
   "source": []
  },
  {
   "cell_type": "markdown",
   "metadata": {},
   "source": []
  }
 ],
 "metadata": {
  "kernelspec": {
   "display_name": "Java",
   "language": "java",
   "name": "java"
  },
  "language_info": {
   "codemirror_mode": "java",
   "file_extension": ".jshell",
   "mimetype": "text/x-java-source",
   "name": "java",
   "pygments_lexer": "java",
   "version": "17.0.4.1+1"
  },
  "orig_nbformat": 4,
  "vscode": {
   "interpreter": {
    "hash": "b0fa6594d8f4cbf19f97940f81e996739fb7646882a419484c72d19e05852a7e"
   }
  }
 },
 "nbformat": 4,
 "nbformat_minor": 2
}
