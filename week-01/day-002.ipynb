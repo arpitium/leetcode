{
 "cells": [
  {
   "attachments": {},
   "cell_type": "markdown",
   "metadata": {},
   "source": [
    "### 520. Detect Capital\n",
    "```text\n",
    "We define the usage of capitals in a word to be right when one of the following cases holds:\n",
    "\n",
    "All letters in this word are capitals, like \"USA\".\n",
    "All letters in this word are not capitals, like \"leetcode\".\n",
    "Only the first letter in this word is capital, like \"Google\".\n",
    "Given a string word, return true if the usage of capitals in it is right.\n",
    "\n",
    "Example 1:\n",
    "Input: word = \"USA\"\n",
    "Output: true\n",
    "\n",
    "Example 2:\n",
    "Input: word = \"FlaG\"\n",
    "Output: false\n",
    "```"
   ]
  },
  {
   "cell_type": "code",
   "execution_count": 1,
   "metadata": {
    "vscode": {
     "languageId": "java"
    }
   },
   "outputs": [
    {
     "name": "stdout",
     "output_type": "stream",
     "text": [
      "true\n",
      "false\n"
     ]
    }
   ],
   "source": [
    "public boolean detectCapitalUse(String word) {\n",
    "    if(word.length() == 0 || word.length() == 1) return true;\n",
    "    \n",
    "    if(Character.isUpperCase(word.charAt(0))){\n",
    "        boolean isFirstCharacter = Character.isUpperCase(word.charAt(1));\n",
    "        for(int i = 2; i < word.length(); i++){\n",
    "            boolean currentCharState = Character.isUpperCase(word.charAt(i));\n",
    "            if(currentCharState != isFirstCharacter) return false;\n",
    "        }\n",
    "    }else{\n",
    "        for(int i = 1; i < word.length(); i++){\n",
    "            if(Character.isUpperCase(word.charAt(i))) return false;\n",
    "        }\n",
    "    }\n",
    "    return true;\n",
    "}\n",
    "\n",
    "System.out.println(detectCapitalUse(\"USA\"));\n",
    "System.out.println(detectCapitalUse(\"FlaG\"));"
   ]
  }
 ],
 "metadata": {
  "kernelspec": {
   "display_name": "Java",
   "language": "java",
   "name": "java"
  },
  "language_info": {
   "codemirror_mode": "java",
   "file_extension": ".jshell",
   "mimetype": "text/x-java-source",
   "name": "Java",
   "pygments_lexer": "java",
   "version": "17.0.4.1+1"
  },
  "orig_nbformat": 4,
  "vscode": {
   "interpreter": {
    "hash": "b0fa6594d8f4cbf19f97940f81e996739fb7646882a419484c72d19e05852a7e"
   }
  }
 },
 "nbformat": 4,
 "nbformat_minor": 2
}
