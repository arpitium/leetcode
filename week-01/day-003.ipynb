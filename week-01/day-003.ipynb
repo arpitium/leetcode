{
 "cells": [
  {
   "attachments": {},
   "cell_type": "markdown",
   "metadata": {},
   "source": [
    "### 944. Delete Columns to Make Sorted\n",
    "```text\n",
    "You are given an array of n strings strs, all of the same length.\n",
    "\n",
    "The strings can be arranged such that there is one on each line, making a grid. For example, strs = \n",
    "[\"abc\", \"bce\", \"cae\"] can be arranged as:\n",
    "\n",
    "abc\n",
    "bce\n",
    "cae\n",
    "You want to delete the columns that are not sorted lexicographically. In the above example (0-indexed), \n",
    "columns 0 ('a', 'b', 'c') and 2 ('c', 'e', 'e') are sorted while column 1 ('b', 'c', 'a') is not, so you \n",
    "would delete column 1.\n",
    "Return the number of columns that you will delete.\n",
    "\n",
    "Example 1:\n",
    "Input: strs = [\"cba\",\"daf\",\"ghi\"]\n",
    "Output: 1\n",
    "\n",
    "Example 2:\n",
    "Input: strs = [\"a\",\"b\"]\n",
    "Output: 0\n",
    "\n",
    "Example 3:\n",
    "Input: strs = [\"zyx\",\"wvu\",\"tsr\"]\n",
    "Output: 3\n",
    "```"
   ]
  },
  {
   "cell_type": "code",
   "execution_count": 2,
   "metadata": {
    "vscode": {
     "languageId": "java"
    }
   },
   "outputs": [
    {
     "name": "stdout",
     "output_type": "stream",
     "text": [
      "1\n",
      "0\n",
      "3\n"
     ]
    }
   ],
   "source": [
    "public int minDeletionSize(String[] strs) {\n",
    "    if(strs.length == 0 || strs[0].length() == 0) {\n",
    "        return 0;\n",
    "    }\n",
    "\n",
    "    int len = strs[0].length();\n",
    "    int result = 0;\n",
    "    for(int row=0; row<len; row++) {\n",
    "        for(int col=0; col<strs.length-1; col++) {\n",
    "            if(strs[col+1].charAt(row) < strs[col].charAt(row)) {\n",
    "                result++;\n",
    "                break;\n",
    "            }\n",
    "        }\n",
    "    }\n",
    "\n",
    "    return result;\n",
    "}\n",
    "\n",
    "System.out.println(minDeletionSize(new String[]{\"cba\",\"daf\",\"ghi\"}));\n",
    "System.out.println(minDeletionSize(new String[]{\"a\",\"b\"}));\n",
    "System.out.println(minDeletionSize(new String[]{\"zyx\",\"wvu\",\"tsr\"}));"
   ]
  },
  {
   "cell_type": "code",
   "execution_count": null,
   "metadata": {
    "vscode": {
     "languageId": "java"
    }
   },
   "outputs": [],
   "source": []
  }
 ],
 "metadata": {
  "kernelspec": {
   "display_name": "Java",
   "language": "java",
   "name": "java"
  },
  "language_info": {
   "codemirror_mode": "java",
   "file_extension": ".jshell",
   "mimetype": "text/x-java-source",
   "name": "Java",
   "pygments_lexer": "java",
   "version": "17.0.4.1+1"
  },
  "orig_nbformat": 4
 },
 "nbformat": 4,
 "nbformat_minor": 2
}
