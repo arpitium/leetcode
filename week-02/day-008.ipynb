{
 "cells": [
  {
   "attachments": {},
   "cell_type": "markdown",
   "metadata": {},
   "source": [
    "### 149. Max Points on a Line\n",
    "```text\n",
    "Given an array of points where points[i] = [xi, yi] represents a point on the X-Y plane, return the maximum \n",
    "number of points that lie on the same straight line.\n",
    "\n",
    "\n",
    "Example 1:\n",
    "Input: points = [[1,1],[2,2],[3,3]]\n",
    "Output: 3\n",
    "\n",
    "Example 2:\n",
    "Input: points = [[1,1],[3,2],[5,3],[4,1],[2,3],[1,4]]\n",
    "Output: 4\n",
    "```"
   ]
  },
  {
   "cell_type": "code",
   "execution_count": 1,
   "metadata": {
    "vscode": {
     "languageId": "java"
    }
   },
   "outputs": [
    {
     "name": "stdout",
     "output_type": "stream",
     "text": [
      "3\n",
      "4\n"
     ]
    }
   ],
   "source": [
    "public int maxPoints(int[][] points) {\n",
    "    int n = points.length;\n",
    "    if(n <= 2) {\n",
    "        return n;\n",
    "    }\n",
    "\n",
    "    int result = 2;\n",
    "    for(int i = 0 ;i < n; i++){\n",
    "        for(int j = i+1; j < n ; j++){\n",
    "            int curr = 2;\n",
    "            for(int k = j+1 ; k<n ; k++ ){\n",
    "                //(y2-y1/x2-x1 == y3-y1/x3-x1) -> (y2-y1) * (x3-x1) == (y3-y1) * (x2-x1)\n",
    "                int s1 = (points[j][1] - points[i][1]) * (points[k][0] - points[i][0]);\n",
    "                int s2 = (points[k][1] - points[i][1]) * (points[j][0] - points[i][0]);\n",
    "                if(s1 == s2){\n",
    "                    curr++;\n",
    "                }\n",
    "            }\n",
    "            result = Math.max(curr, result);\n",
    "        }\n",
    "    }   \n",
    "    return result;\n",
    "}\n",
    "\n",
    "System.out.println(maxPoints(new int[][]{{1, 1}, {2, 2}, {3, 3}}));\n",
    "System.out.println(maxPoints(new int[][]{{1, 1}, {3, 2}, {5, 3}, {4, 1}, {2, 3}, {1, 4}}));"
   ]
  }
 ],
 "metadata": {
  "kernelspec": {
   "display_name": "Java",
   "language": "java",
   "name": "java"
  },
  "language_info": {
   "codemirror_mode": "java",
   "file_extension": ".jshell",
   "mimetype": "text/x-java-source",
   "name": "Java",
   "pygments_lexer": "java",
   "version": "17.0.4.1+1"
  },
  "orig_nbformat": 4
 },
 "nbformat": 4,
 "nbformat_minor": 2
}
