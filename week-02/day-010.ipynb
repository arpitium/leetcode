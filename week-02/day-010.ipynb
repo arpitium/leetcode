{
 "cells": [
  {
   "attachments": {},
   "cell_type": "markdown",
   "metadata": {},
   "source": [
    "### 100. Same Tree\n",
    "```text\n",
    "Given the roots of two binary trees p and q, write a function to check if they are the same or not.\n",
    "\n",
    "Two binary trees are considered the same if they are structurally identical, and the nodes have the same \n",
    "value.\n",
    "\n",
    "\n",
    "Example 1:\n",
    "Input: p = [1,2,3], q = [1,2,3]\n",
    "Output: true\n",
    "\n",
    "Example 2:\n",
    "Input: p = [1,2], q = [1,null,2]\n",
    "Output: false\n",
    "\n",
    "Example 3:\n",
    "Input: p = [1,2,1], q = [1,1,2]\n",
    "Output: false\n",
    "```"
   ]
  },
  {
   "cell_type": "code",
   "execution_count": 2,
   "metadata": {
    "vscode": {
     "languageId": "java"
    }
   },
   "outputs": [],
   "source": [
    "class TreeNode {\n",
    "    int val;\n",
    "    TreeNode left;\n",
    "    TreeNode right;\n",
    "\n",
    "    public TreeNode(int val) {\n",
    "        this.val = val;\n",
    "    }\n",
    "}"
   ]
  },
  {
   "cell_type": "code",
   "execution_count": 8,
   "metadata": {
    "vscode": {
     "languageId": "java"
    }
   },
   "outputs": [
    {
     "name": "stdout",
     "output_type": "stream",
     "text": [
      "true\n",
      "false\n",
      "false\n"
     ]
    }
   ],
   "source": [
    "public boolean isSameTree(TreeNode p, TreeNode q) {\n",
    "    if(p == null && q == null) {\n",
    "        return true;\n",
    "    }\n",
    "    \n",
    "    if((p == null && q != null) || (q == null && p != null)) {\n",
    "        return false;\n",
    "    }\n",
    "    \n",
    "    if(p.val != q.val) {\n",
    "        return false;\n",
    "    }\n",
    "    \n",
    "    return isSameTree(p.left, q.left) && isSameTree(p.right, q.right);\n",
    "}\n",
    "\n",
    "TreeNode t1 = new TreeNode(1);\n",
    "t1.left = new TreeNode(2);\n",
    "t1.right = new TreeNode(3);\n",
    "\n",
    "TreeNode t2 = new TreeNode(1);\n",
    "t2.left = new TreeNode(2);\n",
    "t2.right = new TreeNode(3);\n",
    "\n",
    "System.out.println(isSameTree(t1, t2));\n",
    "//---------------\n",
    "\n",
    "TreeNode t3 = new TreeNode(1);\n",
    "t3.left = new TreeNode(2);\n",
    "\n",
    "TreeNode t4 = new TreeNode(1);\n",
    "t4.right = new TreeNode(2);\n",
    "\n",
    "System.out.println(isSameTree(t3, t4));\n",
    "//---------------\n",
    "\n",
    "TreeNode t5 = new TreeNode(1);\n",
    "t5.left = new TreeNode(2);\n",
    "t5.right = new TreeNode(1);\n",
    "\n",
    "TreeNode t6 = new TreeNode(1);\n",
    "t6.left = new TreeNode(1);\n",
    "t6.right = new TreeNode(2);\n",
    "System.out.println(isSameTree(t5, t6));"
   ]
  },
  {
   "cell_type": "code",
   "execution_count": null,
   "metadata": {
    "vscode": {
     "languageId": "java"
    }
   },
   "outputs": [],
   "source": []
  }
 ],
 "metadata": {
  "kernelspec": {
   "display_name": "Java",
   "language": "java",
   "name": "java"
  },
  "language_info": {
   "codemirror_mode": "java",
   "file_extension": ".jshell",
   "mimetype": "text/x-java-source",
   "name": "Java",
   "pygments_lexer": "java",
   "version": "17.0.4.1+1"
  },
  "orig_nbformat": 4,
  "vscode": {
   "interpreter": {
    "hash": "b0fa6594d8f4cbf19f97940f81e996739fb7646882a419484c72d19e05852a7e"
   }
  }
 },
 "nbformat": 4,
 "nbformat_minor": 2
}
