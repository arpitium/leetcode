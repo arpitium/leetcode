{
 "cells": [
  {
   "attachments": {},
   "cell_type": "markdown",
   "metadata": {},
   "source": [
    "### 144. Binary Tree Preorder Traversal\n",
    "```text\n",
    "Given the root of a binary tree, return the preorder traversal of its nodes' values.\n",
    "\n",
    "\n",
    "Example 1:\n",
    "Input: root = [1,null,2,3]\n",
    "Output: [1,2,3]\n",
    "\n",
    "Example 2:\n",
    "Input: root = [1]\n",
    "Output: [1]\n",
    "```"
   ]
  },
  {
   "cell_type": "code",
   "execution_count": null,
   "metadata": {},
   "outputs": [],
   "source": [
    "class TreeNode {\n",
    "    int val;\n",
    "    TreeNode left;\n",
    "    TreeNode right;\n",
    "\n",
    "    public TreeNode(int val) {\n",
    "        this.val = val;\n",
    "    }\n",
    "}"
   ]
  },
  {
   "cell_type": "code",
   "execution_count": 2,
   "metadata": {},
   "outputs": [
    {
     "name": "stdout",
     "output_type": "stream",
     "text": [
      "[1, 2, 3]\n"
     ]
    }
   ],
   "source": [
    "public List<Integer> preorderTraversal(TreeNode root) {\n",
    "    List<Integer> result = new ArrayList<>();\n",
    "    preorder(root, result);\n",
    "    return result;\n",
    "}\n",
    "\n",
    "private void preorder(TreeNode node, List<Integer> result) {\n",
    "    if(node != null) {\n",
    "        result.add(node.val);\n",
    "        preorder(node.left, result);\n",
    "        preorder(node.right, result);\n",
    "    }\n",
    "}\n",
    "\n",
    "TreeNode root = new TreeNode(1);\n",
    "root.right = new TreeNode(2);\n",
    "root.right.left = new TreeNode(3);\n",
    "\n",
    "System.out.println(preorderTraversal(root));"
   ]
  },
  {
   "attachments": {},
   "cell_type": "markdown",
   "metadata": {},
   "source": [
    "### 94. Binary Tree Inorder Traversal\n",
    "```text\n",
    "Given the root of a binary tree, return the inorder traversal of its nodes' values.\n",
    "\n",
    "\n",
    "Example 1:\n",
    "Input: root = [1,null,2,3]\n",
    "Output: [1,3,2]\n",
    "\n",
    "Example 2:\n",
    "Input: root = [1]\n",
    "Output: [1]\n",
    "```"
   ]
  },
  {
   "cell_type": "code",
   "execution_count": 3,
   "metadata": {},
   "outputs": [
    {
     "name": "stdout",
     "output_type": "stream",
     "text": [
      "[1, 3, 2]\n"
     ]
    }
   ],
   "source": [
    "public List<Integer> inorderTraversal(TreeNode root) {\n",
    "    List<Integer> result = new ArrayList<>();\n",
    "    inorder(root, result);\n",
    "    return result;\n",
    "}\n",
    "\n",
    "private void inorder(TreeNode node, List<Integer> result) {\n",
    "    if(node != null) {\n",
    "        inorder(node.left, result);\n",
    "        result.add(node.val);\n",
    "        inorder(node.right, result);\n",
    "    }\n",
    "}\n",
    "\n",
    "TreeNode root = new TreeNode(1);\n",
    "root.right = new TreeNode(2);\n",
    "root.right.left = new TreeNode(3);\n",
    "\n",
    "System.out.println(inorderTraversal(root));"
   ]
  },
  {
   "cell_type": "code",
   "execution_count": null,
   "metadata": {},
   "outputs": [],
   "source": []
  }
 ],
 "metadata": {
  "kernelspec": {
   "display_name": "Java",
   "language": "java",
   "name": "java"
  },
  "language_info": {
   "codemirror_mode": "java",
   "file_extension": ".jshell",
   "mimetype": "text/x-java-source",
   "name": "java",
   "pygments_lexer": "java",
   "version": "17.0.4.1+1"
  },
  "orig_nbformat": 4
 },
 "nbformat": 4,
 "nbformat_minor": 2
}
